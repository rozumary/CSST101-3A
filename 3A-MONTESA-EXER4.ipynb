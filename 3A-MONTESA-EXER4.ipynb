{
  "nbformat": 4,
  "nbformat_minor": 0,
  "metadata": {
    "colab": {
      "provenance": []
    },
    "kernelspec": {
      "name": "python3",
      "display_name": "Python 3"
    },
    "language_info": {
      "name": "python"
    }
  },
  "cells": [
    {
      "cell_type": "markdown",
      "source": [
        "# **Implementation of Bayesian Networks in Google Colab**\n"
      ],
      "metadata": {
        "id": "O55Pp-wIwBuy"
      }
    },
    {
      "cell_type": "markdown",
      "source": [
        "# **Exercise 1: Setting Up the Environment**\n",
        "\n",
        "**1. Install the Required Library:**\n",
        "\n",
        "* Start by installing pgmpy in your Google Colab environment."
      ],
      "metadata": {
        "id": "7d92tBU4wIk8"
      }
    },
    {
      "cell_type": "code",
      "execution_count": 13,
      "metadata": {
        "colab": {
          "base_uri": "https://localhost:8080/",
          "height": 0
        },
        "id": "qb1Bdr9HmX82",
        "outputId": "571252e9-c53f-4639-aeb4-932e93697436"
      },
      "outputs": [
        {
          "output_type": "stream",
          "name": "stdout",
          "text": [
            "Requirement already satisfied: pgmpy in /usr/local/lib/python3.10/dist-packages (0.1.26)\n",
            "Requirement already satisfied: networkx in /usr/local/lib/python3.10/dist-packages (from pgmpy) (3.4)\n",
            "Requirement already satisfied: numpy in /usr/local/lib/python3.10/dist-packages (from pgmpy) (1.26.4)\n",
            "Requirement already satisfied: scipy in /usr/local/lib/python3.10/dist-packages (from pgmpy) (1.13.1)\n",
            "Requirement already satisfied: scikit-learn in /usr/local/lib/python3.10/dist-packages (from pgmpy) (1.5.2)\n",
            "Requirement already satisfied: pandas in /usr/local/lib/python3.10/dist-packages (from pgmpy) (2.2.2)\n",
            "Requirement already satisfied: pyparsing in /usr/local/lib/python3.10/dist-packages (from pgmpy) (3.1.4)\n",
            "Requirement already satisfied: torch in /usr/local/lib/python3.10/dist-packages (from pgmpy) (2.4.1+cu121)\n",
            "Requirement already satisfied: statsmodels in /usr/local/lib/python3.10/dist-packages (from pgmpy) (0.14.4)\n",
            "Requirement already satisfied: tqdm in /usr/local/lib/python3.10/dist-packages (from pgmpy) (4.66.5)\n",
            "Requirement already satisfied: joblib in /usr/local/lib/python3.10/dist-packages (from pgmpy) (1.4.2)\n",
            "Requirement already satisfied: opt-einsum in /usr/local/lib/python3.10/dist-packages (from pgmpy) (3.4.0)\n",
            "Requirement already satisfied: xgboost in /usr/local/lib/python3.10/dist-packages (from pgmpy) (2.1.1)\n",
            "Requirement already satisfied: google-generativeai in /usr/local/lib/python3.10/dist-packages (from pgmpy) (0.7.2)\n",
            "Requirement already satisfied: google-ai-generativelanguage==0.6.6 in /usr/local/lib/python3.10/dist-packages (from google-generativeai->pgmpy) (0.6.6)\n",
            "Requirement already satisfied: google-api-core in /usr/local/lib/python3.10/dist-packages (from google-generativeai->pgmpy) (2.19.2)\n",
            "Requirement already satisfied: google-api-python-client in /usr/local/lib/python3.10/dist-packages (from google-generativeai->pgmpy) (2.137.0)\n",
            "Requirement already satisfied: google-auth>=2.15.0 in /usr/local/lib/python3.10/dist-packages (from google-generativeai->pgmpy) (2.27.0)\n",
            "Requirement already satisfied: protobuf in /usr/local/lib/python3.10/dist-packages (from google-generativeai->pgmpy) (3.20.3)\n",
            "Requirement already satisfied: pydantic in /usr/local/lib/python3.10/dist-packages (from google-generativeai->pgmpy) (2.9.2)\n",
            "Requirement already satisfied: typing-extensions in /usr/local/lib/python3.10/dist-packages (from google-generativeai->pgmpy) (4.12.2)\n",
            "Requirement already satisfied: proto-plus<2.0.0dev,>=1.22.3 in /usr/local/lib/python3.10/dist-packages (from google-ai-generativelanguage==0.6.6->google-generativeai->pgmpy) (1.24.0)\n",
            "Requirement already satisfied: python-dateutil>=2.8.2 in /usr/local/lib/python3.10/dist-packages (from pandas->pgmpy) (2.8.2)\n",
            "Requirement already satisfied: pytz>=2020.1 in /usr/local/lib/python3.10/dist-packages (from pandas->pgmpy) (2024.2)\n",
            "Requirement already satisfied: tzdata>=2022.7 in /usr/local/lib/python3.10/dist-packages (from pandas->pgmpy) (2024.2)\n",
            "Requirement already satisfied: threadpoolctl>=3.1.0 in /usr/local/lib/python3.10/dist-packages (from scikit-learn->pgmpy) (3.5.0)\n",
            "Requirement already satisfied: patsy>=0.5.6 in /usr/local/lib/python3.10/dist-packages (from statsmodels->pgmpy) (0.5.6)\n",
            "Requirement already satisfied: packaging>=21.3 in /usr/local/lib/python3.10/dist-packages (from statsmodels->pgmpy) (24.1)\n",
            "Requirement already satisfied: filelock in /usr/local/lib/python3.10/dist-packages (from torch->pgmpy) (3.16.1)\n",
            "Requirement already satisfied: sympy in /usr/local/lib/python3.10/dist-packages (from torch->pgmpy) (1.13.3)\n",
            "Requirement already satisfied: jinja2 in /usr/local/lib/python3.10/dist-packages (from torch->pgmpy) (3.1.4)\n",
            "Requirement already satisfied: fsspec in /usr/local/lib/python3.10/dist-packages (from torch->pgmpy) (2024.6.1)\n",
            "Requirement already satisfied: nvidia-nccl-cu12 in /usr/local/lib/python3.10/dist-packages (from xgboost->pgmpy) (2.23.4)\n",
            "Requirement already satisfied: googleapis-common-protos<2.0.dev0,>=1.56.2 in /usr/local/lib/python3.10/dist-packages (from google-api-core->google-generativeai->pgmpy) (1.65.0)\n",
            "Requirement already satisfied: requests<3.0.0.dev0,>=2.18.0 in /usr/local/lib/python3.10/dist-packages (from google-api-core->google-generativeai->pgmpy) (2.32.3)\n",
            "Requirement already satisfied: cachetools<6.0,>=2.0.0 in /usr/local/lib/python3.10/dist-packages (from google-auth>=2.15.0->google-generativeai->pgmpy) (5.5.0)\n",
            "Requirement already satisfied: pyasn1-modules>=0.2.1 in /usr/local/lib/python3.10/dist-packages (from google-auth>=2.15.0->google-generativeai->pgmpy) (0.4.1)\n",
            "Requirement already satisfied: rsa<5,>=3.1.4 in /usr/local/lib/python3.10/dist-packages (from google-auth>=2.15.0->google-generativeai->pgmpy) (4.9)\n",
            "Requirement already satisfied: six in /usr/local/lib/python3.10/dist-packages (from patsy>=0.5.6->statsmodels->pgmpy) (1.16.0)\n",
            "Requirement already satisfied: httplib2<1.dev0,>=0.19.0 in /usr/local/lib/python3.10/dist-packages (from google-api-python-client->google-generativeai->pgmpy) (0.22.0)\n",
            "Requirement already satisfied: google-auth-httplib2<1.0.0,>=0.2.0 in /usr/local/lib/python3.10/dist-packages (from google-api-python-client->google-generativeai->pgmpy) (0.2.0)\n",
            "Requirement already satisfied: uritemplate<5,>=3.0.1 in /usr/local/lib/python3.10/dist-packages (from google-api-python-client->google-generativeai->pgmpy) (4.1.1)\n",
            "Requirement already satisfied: MarkupSafe>=2.0 in /usr/local/lib/python3.10/dist-packages (from jinja2->torch->pgmpy) (3.0.1)\n",
            "Requirement already satisfied: annotated-types>=0.6.0 in /usr/local/lib/python3.10/dist-packages (from pydantic->google-generativeai->pgmpy) (0.7.0)\n",
            "Requirement already satisfied: pydantic-core==2.23.4 in /usr/local/lib/python3.10/dist-packages (from pydantic->google-generativeai->pgmpy) (2.23.4)\n",
            "Requirement already satisfied: mpmath<1.4,>=1.1.0 in /usr/local/lib/python3.10/dist-packages (from sympy->torch->pgmpy) (1.3.0)\n",
            "Requirement already satisfied: grpcio<2.0dev,>=1.33.2 in /usr/local/lib/python3.10/dist-packages (from google-api-core[grpc]!=2.0.*,!=2.1.*,!=2.10.*,!=2.2.*,!=2.3.*,!=2.4.*,!=2.5.*,!=2.6.*,!=2.7.*,!=2.8.*,!=2.9.*,<3.0.0dev,>=1.34.1->google-ai-generativelanguage==0.6.6->google-generativeai->pgmpy) (1.64.1)\n",
            "Requirement already satisfied: grpcio-status<2.0.dev0,>=1.33.2 in /usr/local/lib/python3.10/dist-packages (from google-api-core[grpc]!=2.0.*,!=2.1.*,!=2.10.*,!=2.2.*,!=2.3.*,!=2.4.*,!=2.5.*,!=2.6.*,!=2.7.*,!=2.8.*,!=2.9.*,<3.0.0dev,>=1.34.1->google-ai-generativelanguage==0.6.6->google-generativeai->pgmpy) (1.48.2)\n",
            "Requirement already satisfied: pyasn1<0.7.0,>=0.4.6 in /usr/local/lib/python3.10/dist-packages (from pyasn1-modules>=0.2.1->google-auth>=2.15.0->google-generativeai->pgmpy) (0.6.1)\n",
            "Requirement already satisfied: charset-normalizer<4,>=2 in /usr/local/lib/python3.10/dist-packages (from requests<3.0.0.dev0,>=2.18.0->google-api-core->google-generativeai->pgmpy) (3.4.0)\n",
            "Requirement already satisfied: idna<4,>=2.5 in /usr/local/lib/python3.10/dist-packages (from requests<3.0.0.dev0,>=2.18.0->google-api-core->google-generativeai->pgmpy) (3.10)\n",
            "Requirement already satisfied: urllib3<3,>=1.21.1 in /usr/local/lib/python3.10/dist-packages (from requests<3.0.0.dev0,>=2.18.0->google-api-core->google-generativeai->pgmpy) (2.2.3)\n",
            "Requirement already satisfied: certifi>=2017.4.17 in /usr/local/lib/python3.10/dist-packages (from requests<3.0.0.dev0,>=2.18.0->google-api-core->google-generativeai->pgmpy) (2024.8.30)\n"
          ]
        }
      ],
      "source": [
        "!pip install pgmpy"
      ]
    },
    {
      "cell_type": "markdown",
      "source": [
        "**2. Importing Necessary Libraries:**"
      ],
      "metadata": {
        "id": "WOoeIzFTw2t0"
      }
    },
    {
      "cell_type": "code",
      "source": [
        "import numpy as np\n",
        "import pandas as pd\n",
        "from pgmpy.models import BayesianModel\n",
        "from pgmpy.inference import VariableElimination\n",
        "from pgmpy.inference import BeliefPropagation\n",
        "from pgmpy.factors.discrete import TabularCPD"
      ],
      "metadata": {
        "id": "gp_gvGzYw_fK"
      },
      "execution_count": 14,
      "outputs": []
    },
    {
      "cell_type": "markdown",
      "source": [
        "# **Exercise 2: Building a Simple Bayesian Network**\n",
        "\n",
        "1. Define the Structure:"
      ],
      "metadata": {
        "id": "wsOYQeoYw-_R"
      }
    },
    {
      "cell_type": "code",
      "source": [
        "model = BayesianModel([('Weather', 'Traffic'), ('Traffic', 'Late')])"
      ],
      "metadata": {
        "colab": {
          "base_uri": "https://localhost:8080/",
          "height": 0
        },
        "id": "tqNt_6blyQZK",
        "outputId": "fa4ea8d2-2966-4b11-ee87-b69fd7284d3c"
      },
      "execution_count": 15,
      "outputs": [
        {
          "output_type": "stream",
          "name": "stderr",
          "text": [
            "WARNING:pgmpy:BayesianModel has been renamed to BayesianNetwork. Please use BayesianNetwork class, BayesianModel will be removed in future.\n"
          ]
        }
      ]
    },
    {
      "cell_type": "markdown",
      "source": [
        "2. Define Conditional Probability Tables (CPTs)"
      ],
      "metadata": {
        "id": "1Uddcdnhymb0"
      }
    },
    {
      "cell_type": "code",
      "source": [
        "cpd_weather = TabularCPD(variable='Weather', variable_card=2, values=[[0.8], [0.2]])\n",
        "cpd_traffic = TabularCPD(variable='Traffic', variable_card=2,\n",
        "                          values=[[0.9, 0.5], [0.1, 0.5]],\n",
        "                          evidence=['Weather'], evidence_card=[2])\n",
        "cpd_late = TabularCPD(variable='Late', variable_card=2,\n",
        "                      values=[[0.95, 0.4], [0.05, 0.6]],\n",
        "                      evidence=['Traffic'], evidence_card=[2])\n",
        "\n",
        "model.add_cpds(cpd_weather, cpd_traffic, cpd_late)\n",
        "\n",
        "assert model.check_model()"
      ],
      "metadata": {
        "id": "rFB5ui3qyvQW"
      },
      "execution_count": 16,
      "outputs": []
    },
    {
      "cell_type": "markdown",
      "source": [
        "# **Exercise 3: Querying the Bayesian Network**\n",
        "\n",
        "Perform Exact Inference:\n"
      ],
      "metadata": {
        "id": "yOD9lRbw1KcK"
      }
    },
    {
      "cell_type": "code",
      "source": [
        "inference = VariableElimination(model)\n",
        "\n",
        "result = inference.query(variables=['Late'], evidence={'Weather': 1})\n",
        "print(result)"
      ],
      "metadata": {
        "colab": {
          "base_uri": "https://localhost:8080/",
          "height": 0
        },
        "id": "Hm3DsAj81WBU",
        "outputId": "a1bff4d9-283a-4398-f76c-d70f1b5abb7d"
      },
      "execution_count": 17,
      "outputs": [
        {
          "output_type": "stream",
          "name": "stderr",
          "text": [
            "WARNING:pgmpy:BayesianModel has been renamed to BayesianNetwork. Please use BayesianNetwork class, BayesianModel will be removed in future.\n",
            "WARNING:pgmpy:BayesianModel has been renamed to BayesianNetwork. Please use BayesianNetwork class, BayesianModel will be removed in future.\n"
          ]
        },
        {
          "output_type": "stream",
          "name": "stdout",
          "text": [
            "+---------+-------------+\n",
            "| Late    |   phi(Late) |\n",
            "+=========+=============+\n",
            "| Late(0) |      0.6750 |\n",
            "+---------+-------------+\n",
            "| Late(1) |      0.3250 |\n",
            "+---------+-------------+\n"
          ]
        }
      ]
    },
    {
      "cell_type": "markdown",
      "source": [
        "# **Exercise 4: Parameter Learning**\n",
        "1. Simulate a Dataset:"
      ],
      "metadata": {
        "id": "R8Curllc1vAF"
      }
    },
    {
      "cell_type": "code",
      "source": [
        "data = pd.DataFrame({\n",
        "    'Weather': np.random.choice([0, 1], size=1000, p=[0.8, 0.2]),\n",
        "    'Traffic': np.nan,\n",
        "    'Late': np.nan,\n",
        "})\n",
        "\n",
        "data.loc[data['Weather'] == 0, 'Traffic'] = np.random.choice(\n",
        "    [0, 1],\n",
        "    size=data[data['Weather'] == 0].shape[0],\n",
        "    p=[0.9, 0.1]\n",
        ")\n",
        "\n",
        "data.loc[data['Weather'] == 1, 'Traffic'] = np.random.choice(\n",
        "    [0, 1],\n",
        "    size=data[data['Weather'] == 1].shape[0],\n",
        "    p=[0.5, 0.5]\n",
        ")\n",
        "\n",
        "data['Late'] = np.where(\n",
        "    data['Traffic'] == 0,\n",
        "    np.random.choice([0, 1], size=data.shape[0], p=[0.95, 0.05]),\n",
        "    np.random.choice([0, 1], size=data.shape[0], p=[0.4, 0.6])\n",
        ")"
      ],
      "metadata": {
        "id": "CEoKkOGS119p"
      },
      "execution_count": 18,
      "outputs": []
    },
    {
      "cell_type": "markdown",
      "source": [
        "2. Estimate the Parameters"
      ],
      "metadata": {
        "id": "bcYZk_aB3Rxm"
      }
    },
    {
      "cell_type": "code",
      "source": [
        "from pgmpy.estimators import MaximumLikelihoodEstimator\n",
        "\n",
        "model = BayesianModel([('Weather', 'Traffic'), ('Traffic', 'Late')])\n",
        "\n",
        "model.fit(data, estimator=MaximumLikelihoodEstimator)\n",
        "\n",
        "for cpd in model.get_cpds():\n",
        "    print(cpd)"
      ],
      "metadata": {
        "colab": {
          "base_uri": "https://localhost:8080/",
          "height": 0
        },
        "id": "UGU6k5jP3XZC",
        "outputId": "6051a03b-f405-4d79-bbeb-cb2e48925e90"
      },
      "execution_count": 19,
      "outputs": [
        {
          "output_type": "stream",
          "name": "stderr",
          "text": [
            "WARNING:pgmpy:BayesianModel has been renamed to BayesianNetwork. Please use BayesianNetwork class, BayesianModel will be removed in future.\n"
          ]
        },
        {
          "output_type": "stream",
          "name": "stdout",
          "text": [
            "+------------+-------+\n",
            "| Weather(0) | 0.807 |\n",
            "+------------+-------+\n",
            "| Weather(1) | 0.193 |\n",
            "+------------+-------+\n",
            "+--------------+---------------------+---------------------+\n",
            "| Weather      | Weather(0)          | Weather(1)          |\n",
            "+--------------+---------------------+---------------------+\n",
            "| Traffic(0.0) | 0.8884758364312267  | 0.5492227979274611  |\n",
            "+--------------+---------------------+---------------------+\n",
            "| Traffic(1.0) | 0.11152416356877323 | 0.45077720207253885 |\n",
            "+--------------+---------------------+---------------------+\n",
            "+---------+---------------------+--------------------+\n",
            "| Traffic | Traffic(0.0)        | Traffic(1.0)       |\n",
            "+---------+---------------------+--------------------+\n",
            "| Late(0) | 0.9562575941676792  | 0.3389830508474576 |\n",
            "+---------+---------------------+--------------------+\n",
            "| Late(1) | 0.04374240583232078 | 0.6610169491525424 |\n",
            "+---------+---------------------+--------------------+\n"
          ]
        }
      ]
    },
    {
      "cell_type": "markdown",
      "source": [
        "# **Exercise 5: Visualizing the Bayesian Network**\n",
        "Visualize the Network Structure"
      ],
      "metadata": {
        "id": "YIcPZcbi4u8Y"
      }
    },
    {
      "cell_type": "code",
      "source": [
        "import matplotlib.pyplot as plt\n",
        "import networkx as nx\n",
        "from pgmpy.models import BayesianModel\n",
        "\n",
        "nx_graph = nx.DiGraph()\n",
        "nx_graph.add_edges_from(model.edges())\n",
        "\n",
        "plt.figure(figsize=(8, 6))\n",
        "pos = nx.spring_layout(nx_graph)\n",
        "nx.draw(nx_graph, pos, with_labels=True, node_color='lightgreen',\n",
        "        font_weight='bold', arrows=True, arrowstyle='->', connectionstyle='arc3,rad=0.2')\n",
        "\n",
        "plt.title('Bayesian Network Structure')\n",
        "plt.show()"
      ],
      "metadata": {
        "colab": {
          "base_uri": "https://localhost:8080/",
          "height": 659
        },
        "id": "Bl4XggcW43M0",
        "outputId": "cf1fd4a5-a639-470d-a992-16a8e4bd7235"
      },
      "execution_count": 21,
      "outputs": [
        {
          "output_type": "display_data",
          "data": {
            "text/plain": [
              "<Figure size 800x600 with 1 Axes>"
            ],
            "image/png": "[encoded data removed]"
          },
          "metadata": {}
        }
      ]
    }
  ]
}