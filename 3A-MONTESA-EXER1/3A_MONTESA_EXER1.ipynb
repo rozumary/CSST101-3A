{
  "nbformat": 4,
  "nbformat_minor": 0,
  "metadata": {
    "colab": {
      "provenance": []
    },
    "kernelspec": {
      "name": "python3",
      "display_name": "Python 3"
    },
    "language_info": {
      "name": "python"
    }
  },
  "cells": [
    {
      "cell_type": "markdown",
      "source": [
        "#Exercises: Logic-Based Presentation\n",
        "\n",
        "*This notebook contains Python Exercises.*"
      ],
      "metadata": {
        "id": "hqSqfiECX0JW"
      }
    },
    {
      "cell_type": "markdown",
      "source": [
        "**Exercise 1: Propositional Logic in Python**\n",
        "\n",
        "**Objectives:** Student will learn how to represent simple facts and rules using propositional logic and implement them in Python."
      ],
      "metadata": {
        "id": "rLAvBaj-vjdL"
      }
    },
    {
      "cell_type": "code",
      "execution_count": null,
      "metadata": {
        "colab": {
          "base_uri": "https://localhost:8080/"
        },
        "id": "5uCAMd2MvS15",
        "outputId": "432d570b-8d7e-480c-9e9a-0559ac8b6354"
      },
      "outputs": [
        {
          "output_type": "stream",
          "name": "stdout",
          "text": [
            "The match will not light.\n"
          ]
        }
      ],
      "source": [
        "raining = True\n",
        "ground_wet = False\n",
        "match_light = True\n",
        "\n",
        "if raining:\n",
        "  ground_wet = True\n",
        "\n",
        "if ground_wet:\n",
        "  match_light = False\n",
        "\n",
        "if match_light:\n",
        "  print(\"The match will light.\")\n",
        "else:\n",
        "  print(\"The match will not light.\")"
      ]
    },
    {
      "cell_type": "markdown",
      "source": [
        "Since it's raining (rain = True), the ground becomes wet (ground_wet = True), and the match won’t light (match_light = False). The output will be \"The match will not light.\""
      ],
      "metadata": {
        "id": "WEAUBoAgwsV_"
      }
    },
    {
      "cell_type": "markdown",
      "source": [
        "**Exercise 2: Predicate Logic Representation**\n",
        "\n",
        "**Objective:**\n",
        "Students will apply predicate logic to represent relationships between objects and\n",
        "implement them in Python."
      ],
      "metadata": {
        "id": "k9Ld-arBxRXV"
      }
    },
    {
      "cell_type": "code",
      "source": [
        "def isHuman(name):\n",
        "  return name == \"Socrates\"\n",
        "\n",
        "def isMortal(name):\n",
        "  if isHuman(name):\n",
        "    return True\n",
        "  return False\n",
        "\n",
        "name = \"Socrates\"\n",
        "if isMortal(name):\n",
        "  print(f\"{name} is mortal.\")\n",
        "\n",
        "else:\n",
        "  print(f\"{name} is not mortal.\")"
      ],
      "metadata": {
        "colab": {
          "base_uri": "https://localhost:8080/"
        },
        "id": "X0lZaUgXxQJI",
        "outputId": "db9fd773-60f7-4364-ae8f-c183f682174f"
      },
      "execution_count": null,
      "outputs": [
        {
          "output_type": "stream",
          "name": "stdout",
          "text": [
            "Socrates is mortal.\n"
          ]
        }
      ]
    },
    {
      "cell_type": "markdown",
      "source": [
        "isHuman(\"Socrates\") returns True, and because all humans are mortal, isMortal(\"Socrates\") also returns True. Therefore, the output will be \"Socrates is mortal.\""
      ],
      "metadata": {
        "id": "ULUGtiWVykPC"
      }
    },
    {
      "cell_type": "markdown",
      "source": [
        "**Exercise 3: Inference Techniques in Logic-Based Systems**\n",
        "\n",
        "**Objective:** Students will develop an inference system to derive conclusions from premises using Python."
      ],
      "metadata": {
        "id": "5eX1QY1gyl1z"
      }
    },
    {
      "cell_type": "code",
      "source": [
        "def modus_ponens(facts, rules):\n",
        "    new_facts = set(facts)\n",
        "    conclusions = []\n",
        "\n",
        "    for rule in rules:\n",
        "        premise, conclusion = rule\n",
        "\n",
        "        if premise in new_facts:\n",
        "            if conclusion not in new_facts:\n",
        "                new_facts.add(conclusion)\n",
        "                conclusions.append(conclusion)\n",
        "\n",
        "    return conclusions\n",
        "\n",
        "facts = [\"X\"]\n",
        "\n",
        "rules = [(\"X\", \"Y\"),\n",
        "         (\"Y\", \"Z\")]\n",
        "\n",
        "conclusions = modus_ponens(facts, rules)\n",
        "\n",
        "print(\"Inferred conclusions:\", conclusions)\n"
      ],
      "metadata": {
        "colab": {
          "base_uri": "https://localhost:8080/"
        },
        "id": "QzgRxBpazSu-",
        "outputId": "5e96af6c-b7cf-4137-bbd4-0cbe727c0f3e"
      },
      "execution_count": null,
      "outputs": [
        {
          "output_type": "stream",
          "name": "stdout",
          "text": [
            "Inferred conclusions: ['Y', 'Z']\n"
          ]
        }
      ]
    },
    {
      "cell_type": "markdown",
      "source": [
        "**Exercise 4: Exercise 4: Hands-on Lab - Implementing a Logic-Based Model in Python**\n",
        "\n",
        "**Objective:**\n",
        "Students will implement a logic-based system in Python that performs simple reasoning using propositional or predicate logic.\n",
        "\n"
      ],
      "metadata": {
        "id": "K3mBarV01C9f"
      }
    },
    {
      "cell_type": "code",
      "source": [
        "john_hungry = True\n",
        "john_eating = False\n",
        "\n",
        "while john_hungry:\n",
        "  if john_hungry:\n",
        "      john_eating = True\n",
        "      print(\"John is eating\")\n",
        "\n",
        "  if john_eating:\n",
        "    john_hungry = False\n",
        "    print(\"John will be no longer hungry.\")\n",
        "\n",
        "print(\"Reasoning process completed.\")"
      ],
      "metadata": {
        "colab": {
          "base_uri": "https://localhost:8080/"
        },
        "id": "1OZesBUd1coX",
        "outputId": "d9dbc543-aaed-4cc1-fa79-9f76c8dbef99"
      },
      "execution_count": null,
      "outputs": [
        {
          "output_type": "stream",
          "name": "stdout",
          "text": [
            "John is eating\n",
            "John will be no longer hungry.\n",
            "Process completed.\n"
          ]
        }
      ]
    },
    {
      "cell_type": "markdown",
      "source": [
        "**Explanation:**\n",
        "\n",
        "**1.Initial state: **John starts as hungry (john_hungry = True).\n",
        "\n",
        "**Rule 1:** If John is hungry, he will start eating (john_eating = True).\n",
        "\n",
        "**Rule 2:** Once John eats, he is no longer hungry (john_hungry = False).\n",
        "\n",
        "The loop simulates the reasoning process until John's hunger status changes."
      ],
      "metadata": {
        "id": "ApQgfh2Z2KuX"
      }
    },
    {
      "cell_type": "markdown",
      "source": [
        "*This output shows that John ate and is no longer hungry, following the logic of the rules.*"
      ],
      "metadata": {
        "id": "akd-iWPa2Fzq"
      }
    },
    {
      "cell_type": "markdown",
      "source": [
        "#Case Study Session\n",
        "\n",
        "**Objective:** Analyze a real-world case study where logic-based models are used for decision-making\n",
        "(e.g., in AI systems or expert systems).\n",
        "\n",
        "Applying Logic-Based Models in Expert Systems *italicized text*\n",
        "\n",
        "Expert systems use logical reasoning to solve problems. They have a knowledge base of facts and rules, and an inference engine that applies the rules to deduce new facts.\n",
        "\n",
        "*How Logic is Used*\n",
        "\n",
        "Expert systems use propositional logic and predicate logic:\n",
        "\n",
        " **Propositional logic** represents simple facts and rules using AND, OR, NOT. For example: \"If raining AND cold, THEN risk of ice.\"\n",
        "\n",
        " **Predicate logic** represents complex relationships. For example: \"All birds can fly.\" Uses predicates like \"is a bird\" and quantifiers like \"all\".\n",
        "\n",
        "The inference engine applies logical rules to the knowledge base to derive new facts. Two common methods are:\n",
        "\n",
        "1. **Forward chaining**: Start with known facts, apply rules to infer new facts until a conclusion. Good for prediction.\n",
        "\n",
        "2. **Backward chaining**: Start with a hypothesis, work backwards to find supporting facts. Good for diagnosis.\n",
        "\n",
        "*Advantages*\n",
        "\n",
        " **Transparency**: The rules are explicit and human-readable, so the reasoning is explainable.\n",
        "\n",
        " **Flexibility**: Can handle incomplete info using fuzzy logic. Knowledge base can be updated.\n",
        "\n",
        " **Reusability**: Knowledge base and inference engine can be reused across applications.\n",
        "\n",
        "*Challenges*\n",
        "\n",
        " **Knowledge acquisition**: Populating the knowledge base is difficult and time-consuming.\n",
        "\n",
        " **Scalability**: Inference can be computationally expensive as knowledge grows.\n",
        "\n",
        " **Brittleness**: Can't handle situations outside predefined rules. Invalid inputs produce nonsense.\n",
        "\n",
        "*Case Study: MYCIN*\n",
        "\n",
        "MYCIN was an early expert system for diagnosing bacterial infections. Used forward chaining on a knowledge base of 600+ rules.\n",
        "\n",
        "Represented knowledge using predicate logic. For example:\n",
        "\n",
        "```\n",
        "IF primary-bacteremia AND culture-site=blood\n",
        "THEN high-suspicion(0.7) of bacteremic-infection\n",
        "```\n",
        "\n",
        "Demonstrated potential but also challenges like knowledge acquisition difficulty. As AI advanced, other approaches like neural networks became more prominent for diagnosis.\n",
        "\n",
        "In summary, expert systems use logical reasoning but face challenges. They remain an important AI tool, often combined with machine learning."
      ],
      "metadata": {
        "id": "8ENaTLKad-4E"
      }
    },
    {
      "cell_type": "markdown",
      "source": [
        "**Assignment: Implement a Logic-Based Model in Python**\n",
        "\n",
        "**Objective:**\n",
        "Develop a more complex logic-based system in Python to model real-world scenarios."
      ],
      "metadata": {
        "id": "ziCdAh6u33XB"
      }
    },
    {
      "cell_type": "code",
      "source": [
        "def evaluate_loan (credit_score, annual_income):\n",
        "  if credit_score > 700 and annual_income > 50000:\n",
        "    return \"Loan approved.\"\n",
        "\n",
        "  elif credit_score > 600 and annual_income > 30000:\\\n",
        "  return \"Loan approved with conditions.\"\n",
        "\n",
        "  else:\n",
        "    return \"Loan denied.\"\n",
        "\n",
        "credit_score = int(input(\"Enter your credit score: \"))\n",
        "annual_income = float(input(\"Enter your annual salary: \"))\n",
        "\n",
        "loan_status = evaluate_loan(credit_score, annual_income)\n",
        "\n",
        "print(loan_status)\n"
      ],
      "metadata": {
        "colab": {
          "base_uri": "https://localhost:8080/"
        },
        "id": "gJRJ6P_x37FL",
        "outputId": "16b3acdb-29f7-4db6-a165-e9a75d87eeb6"
      },
      "execution_count": null,
      "outputs": [
        {
          "output_type": "stream",
          "name": "stdout",
          "text": [
            "Enter your credit score: 750\n",
            "Enter your annual salary: 60000\n",
            "Loan approved.\n"
          ]
        }
      ]
    },
    {
      "cell_type": "markdown",
      "source": [
        "This is a simple Loan Checker System I build that decides if a loan application shouold be approved based on the following rules.\n",
        "\n",
        "Rule 1: If the applicant's credit score is above 700 and their annual income is above 50,000, approve the loan.\n",
        "\n",
        "Rule 2: If the applicant's credit score is above 600 and their annual income is above 30,000, approve the loan with conditions.\n",
        "\n",
        "Rule 3: If the applicant's credit score is below 600, deny the loan."
      ],
      "metadata": {
        "id": "Ogj0QzsR5b_w"
      }
    }
  ]
}