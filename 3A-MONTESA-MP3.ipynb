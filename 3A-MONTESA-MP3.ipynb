{
  "nbformat": 4,
  "nbformat_minor": 0,
  "metadata": {
    "colab": {
      "provenance": []
    },
    "kernelspec": {
      "name": "python3",
      "display_name": "Python 3"
    },
    "language_info": {
      "name": "python"
    }
  },
  "cells": [
    {
      "cell_type": "markdown",
      "source": [
        "# **Machine Problem 3: Interactive Probability and Decision-Making in AI**\n",
        "\n",
        "**Objective**: In this machine problem, you will apply probability theory, Bayesian inference, and decision-making under uncertainty to real-world scenarios using Python. The goal is to create an interactive Python program that allows you to simulate and visualize probabilistic reasoning in various AI contexts.\n"
      ],
      "metadata": {
        "id": "r_t7pP6BxZsl"
      }
    },
    {
      "cell_type": "code",
      "execution_count": null,
      "metadata": {
        "colab": {
          "base_uri": "https://localhost:8080/"
        },
        "id": "LlV6Bi8QxSGd",
        "outputId": "08b8b21a-fad3-46d9-e626-fce3e7fdcc68"
      },
      "outputs": [
        {
          "output_type": "stream",
          "name": "stdout",
          "text": [
            "Interactive Probability Calculation\n",
            "Select the calculation you want to perform:\n",
            "1: Joint Probability (P A and B)\n",
            "2: Marginal Probability (P B)\n",
            "3: Conditional Probability (P A given B)\n",
            "4: Bayesian Inference (P A given B)\n",
            "Enter your choice (1-4): 2\n",
            "Enter the probability of event A: 2\n",
            "Enter the probability of event B given A: 1\n",
            "Marginal Probability: 2.0\n"
          ]
        }
      ],
      "source": [
        "def joint_probability(p_A, p_B):\n",
        "    return p_A * p_B\n",
        "\n",
        "def marginal_probability(p_A, p_B_given_A):\n",
        "    return p_A * p_B_given_A\n",
        "\n",
        "def conditional_probability(p_A_given_B, p_B):\n",
        "    return p_A_given_B * p_B\n",
        "\n",
        "def bayesian_inference(p_B_given_A, p_A, p_B):\n",
        "    return (p_B_given_A * p_A) / p_B\n",
        "\n",
        "def interactive_probability():\n",
        "    print(\"Interactive Probability Calculation\")\n",
        "    print(\"Select the calculation you want to perform:\")\n",
        "    print(\"1: Joint Probability (P A and B)\")\n",
        "    print(\"2: Marginal Probability (P B)\")\n",
        "    print(\"3: Conditional Probability (P A given B)\")\n",
        "    print(\"4: Bayesian Inference (P A given B)\")\n",
        "\n",
        "    choice = int(input(\"Enter your choice (1-4): \"))\n",
        "\n",
        "    if choice == 1:\n",
        "        p_A = float(input(\"Enter the probability of event A: \"))\n",
        "        p_B = float(input(\"Enter the probability of event B: \"))\n",
        "        result = joint_probability(p_A, p_B)\n",
        "        print(f\"Joint Probability: {result}\")\n",
        "\n",
        "    elif choice == 2:\n",
        "        p_A = float(input(\"Enter the probability of event A: \"))\n",
        "        p_B_given_A = float(input(\"Enter the probability of event B given A: \"))\n",
        "        result = marginal_probability(p_A, p_B_given_A)\n",
        "        print(f\"Marginal Probability: {result}\")\n",
        "\n",
        "    elif choice == 3:\n",
        "        p_A_given_B = float(input(\"Enter the probability of event A given B: \"))\n",
        "        p_B = float(input(\"Enter the probability of event B: \"))\n",
        "        result = conditional_probability(p_A_given_B, p_B)\n",
        "        print(f\"Conditional Probability: {result}\")\n",
        "\n",
        "    elif choice == 4:\n",
        "        p_B_given_A = float(input(\"Enter the probability of event B given A: \"))\n",
        "        p_A = float(input(\"Enter the probability of event A: \"))\n",
        "        p_B = float(input(\"Enter the probability of event B: \"))\n",
        "        result = bayesian_inference(p_B_given_A, p_A, p_B)\n",
        "        print(f\"Bayesian Inference: {result}\")\n",
        "\n",
        "    else:\n",
        "        print(\"Invalid choice. Please enter a valid option.\")\n",
        "\n",
        "interactive_probability()\n"
      ]
    },
    {
      "cell_type": "markdown",
      "source": [
        "# **Part 2: Bayesian Inference for Real-World Scenarios**\n",
        "1. Task: Implement a Python function that uses Bayesian inference to update probabilities based on new evidence.\n",
        "o You are given a medical scenario where you need to update the probability of having a disease based on a positive test result.\n",
        "2. Interactive Component"
      ],
      "metadata": {
        "id": "XEQbDRCwx4Am"
      }
    },
    {
      "cell_type": "code",
      "source": [
        "def bayesian_inference(p_disease, p_positive_given_disease, p_positive):\n",
        "    return (p_positive_given_disease * p_disease) / p_positive\n",
        "\n",
        "def interactive_bayesian_inference():\n",
        "    print(\"Bayesian Inference for Medical Diagnosis\")\n",
        "\n",
        "    p_disease = float(input(\"Enter the prior probability of having the disease (as a decimal): \"))\n",
        "    p_positive_given_disease = float(input(\"Enter the probability of testing positive given the disease (as a decimal): \"))\n",
        "    p_positive = float(input(\"Enter the overall probability of testing positive (as a decimal): \"))\n",
        "\n",
        "    posterior = bayesian_inference(p_disease, p_positive_given_disease, p_positive)\n",
        "\n",
        "    print(f\"The updated probability of having the disease given a positive test is: {posterior:.4f}\")\n",
        "\n",
        "interactive_bayesian_inference()\n"
      ],
      "metadata": {
        "colab": {
          "base_uri": "https://localhost:8080/"
        },
        "id": "L2Q176jmynEB",
        "outputId": "f4dc51c3-d7a4-49dc-df1b-b1212166ba0e"
      },
      "execution_count": null,
      "outputs": [
        {
          "output_type": "stream",
          "name": "stdout",
          "text": [
            "Bayesian Inference for Medical Diagnosis\n",
            "Enter the prior probability of having the disease (as a decimal): 2.5\n",
            "Enter the probability of testing positive given the disease (as a decimal): 3\n",
            "Enter the overall probability of testing positive (as a decimal): 4\n",
            "The updated probability of having the disease given a positive test is: 1.8750\n"
          ]
        }
      ]
    },
    {
      "cell_type": "markdown",
      "source": [
        "# **Part 3: Simulate Decision-Making Under Uncertainty**\n",
        "1. Task: Write a Python function to simulate a decision-making process where outcomes are uncertain (e.g., investment decisions). Use a probability distribution to model the decision’s potential outcomes.\n",
        "o The function should take as inputs the probability of success, reward for success, and penalty for failure.\n",
        "2. Interactive Component"
      ],
      "metadata": {
        "id": "x5ieMRrxzIGt"
      }
    },
    {
      "cell_type": "code",
      "source": [
        "import numpy as np\n",
        "\n",
        "def simulate_decision(prob_success, reward, penalty, trials):\n",
        "    outcomes = []\n",
        "    for _ in range(trials):\n",
        "        if np.random.rand() < prob_success:\n",
        "            outcomes.append(reward)\n",
        "        else:\n",
        "            outcomes.append(penalty)\n",
        "    average_return = np.mean(outcomes)\n",
        "    return average_return\n",
        "\n",
        "def interactive_decision_simulation():\n",
        "    print(\"Decision-Making Under Uncertainty Simulation\")\n",
        "\n",
        "    prob_success = float(input(\"Enter the probability of success (as a decimal): \"))\n",
        "    reward = float(input(\"Enter the reward amount for success: \"))\n",
        "    penalty = float(input(\"Enter the penalty amount for failure: \"))\n",
        "    trials = int(input(\"Enter the number of trials to simulate: \"))\n",
        "\n",
        "    average_return = simulate_decision(prob_success, reward, penalty, trials)\n",
        "\n",
        "    print(f\"The average return after {trials} trials is: ${average_return:.2f}\")\n",
        "\n",
        "interactive_decision_simulation()\n"
      ],
      "metadata": {
        "colab": {
          "base_uri": "https://localhost:8080/"
        },
        "id": "vgvni0DPyz6y",
        "outputId": "411400b6-1730-483d-e699-df85148a65a7"
      },
      "execution_count": null,
      "outputs": [
        {
          "output_type": "stream",
          "name": "stdout",
          "text": [
            "Decision-Making Under Uncertainty Simulation\n",
            "Enter the probability of success (as a decimal): 3\n",
            "Enter the reward amount for success: 32\n",
            "Enter the penalty amount for failure: 3\n",
            "Enter the number of trials to simulate: 2\n",
            "The average return after 2 trials is: $32.00\n"
          ]
        }
      ]
    },
    {
      "cell_type": "markdown",
      "source": [
        "# **Part 4: Visualize Probability Distributions**\n",
        "1. Task: Use Python to generate and visualize binomial and normal probability distributions. The visualizations should represent real-world scenarios like coin flips or dice rolls.\n",
        "2. Interactive Component\n"
      ],
      "metadata": {
        "id": "_E5TRdfwzbLF"
      }
    },
    {
      "cell_type": "code",
      "source": [
        "import numpy as np\n",
        "import matplotlib.pyplot as plt\n",
        "\n",
        "def generate_binomial(trials, prob, size):\n",
        "    return np.random.binomial(n=trials, p=prob, size=size)\n",
        "\n",
        "def generate_normal(mean, std_dev, size):\n",
        "    return np.random.normal(loc=mean, scale=std_dev, size=size)\n",
        "\n",
        "def visualize_distribution(data, title, xlabel):\n",
        "    plt.figure(figsize=(8, 6))\n",
        "    plt.hist(data, bins=30, color='skyblue', edgecolor='black', alpha=0.7)\n",
        "    plt.title(title)\n",
        "    plt.xlabel(xlabel)\n",
        "    plt.ylabel('Frequency')\n",
        "    plt.grid(True)\n",
        "    plt.show()\n",
        "\n",
        "def interactive_distribution_simulation():\n",
        "    print(\"Choose a probability distribution to simulate:\")\n",
        "    print(\"1. Binomial Distribution (e.g., Coin Flips)\")\n",
        "    print(\"2. Normal Distribution (e.g., Exam Scores)\")\n",
        "    choice = input(\"Enter 1 or 2: \")\n",
        "\n",
        "    if choice == '1':\n",
        "        print(\"\\nYou chose Binomial Distribution.\")\n",
        "        trials = int(input(\"Enter the number of trials (e.g., number of coin flips): \"))\n",
        "        prob = float(input(\"Enter the probability of success (e.g., 0.5 for heads): \"))\n",
        "        size = int(input(\"Enter the sample size (e.g., 1000): \"))\n",
        "        binomial_data = generate_binomial(trials, prob, size)\n",
        "        visualize_distribution(binomial_data, 'Binomial Distribution', 'Number of Successes')\n",
        "\n",
        "    elif choice == '2':\n",
        "        print(\"\\nYou chose Normal Distribution.\")\n",
        "        mean = float(input(\"Enter the mean (e.g., average exam score): \"))\n",
        "        std_dev = float(input(\"Enter the standard deviation (e.g., 15 for exam scores): \"))\n",
        "        size = int(input(\"Enter the sample size (e.g., 1000): \"))\n",
        "        normal_data = generate_normal(mean, std_dev, size)\n",
        "        visualize_distribution(normal_data, 'Normal Distribution', 'Values')\n",
        "\n",
        "    else:\n",
        "        print(\"Invalid choice. Please select either 1 or 2.\")\n",
        "\n",
        "interactive_distribution_simulation()\n"
      ],
      "metadata": {
        "id": "r7-27-K3zWtQ"
      },
      "execution_count": null,
      "outputs": []
    },
    {
      "cell_type": "markdown",
      "source": [
        "# **Part 5: Real-World Scenario Prediction**\n",
        "1. Task: Write a Python script that uses conditional probability to predict a real-world event. The scenario should involve predicting the probability of rain based on inputs like humidity and cloud cover.\n",
        "2. Interactive Component\n"
      ],
      "metadata": {
        "id": "sbHRDNjPzkAX"
      }
    },
    {
      "cell_type": "code",
      "source": [
        "def predict_rain(humidity, cloud_cover):\n",
        "    prior_rain = 0.2\n",
        "\n",
        "    likelihood_humidity_given_rain = {'high': 0.9, 'medium': 0.6, 'low': 0.2}\n",
        "    likelihood_humidity_given_no_rain = {'high': 0.3, 'medium': 0.5, 'low': 0.7}\n",
        "\n",
        "    likelihood_cloud_given_rain = {'heavy': 0.8, 'medium': 0.5, 'light': 0.1}\n",
        "    likelihood_cloud_given_no_rain = {'heavy': 0.2, 'medium': 0.4, 'light': 0.9}\n",
        "\n",
        "    likelihood_evidence_given_rain = likelihood_humidity_given_rain[humidity] * likelihood_cloud_given_rain[cloud_cover]\n",
        "\n",
        "    likelihood_evidence_given_no_rain = likelihood_humidity_given_no_rain[humidity] * likelihood_cloud_given_no_rain[cloud_cover]\n",
        "\n",
        "    total_evidence = (prior_rain * likelihood_evidence_given_rain) + \\\n",
        "                     ((1 - prior_rain) * likelihood_evidence_given_no_rain)\n",
        "\n",
        "    posterior_rain = (prior_rain * likelihood_evidence_given_rain) / total_evidence\n",
        "\n",
        "    return posterior_rain\n",
        "\n",
        "def interactive_rain_prediction():\n",
        "    print(\"Welcome to the Rain Prediction System!\")\n",
        "    humidity = input(\"Enter humidity level (high/medium/low): \").strip().lower()\n",
        "    cloud_cover = input(\"Enter cloud cover (heavy/medium/light): \").strip().lower()\n",
        "\n",
        "    if humidity not in ['high', 'medium', 'low'] or cloud_cover not in ['heavy', 'medium', 'light']:\n",
        "        print(\"Invalid input. Please enter 'high', 'medium', or 'low' for humidity and 'heavy', 'medium', or 'light' for cloud cover.\")\n",
        "        return\n",
        "\n",
        "    probability_of_rain = predict_rain(humidity, cloud_cover)\n",
        "\n",
        "    print(f\"The probability of rain given {humidity} humidity and {cloud_cover} cloud cover is {probability_of_rain * 100:.2f}%.\")\n",
        "\n",
        "interactive_rain_prediction()\n"
      ],
      "metadata": {
        "colab": {
          "base_uri": "https://localhost:8080/"
        },
        "id": "jZMYs8NYztaQ",
        "outputId": "71ad98ed-6aaa-4972-bc6d-3a44e37b75b4"
      },
      "execution_count": null,
      "outputs": [
        {
          "output_type": "stream",
          "name": "stdout",
          "text": [
            "Welcome to the Rain Prediction System!\n",
            "Enter humidity level (high/medium/low): medium\n",
            "Enter cloud cover (heavy/medium/light): heavy\n",
            "The probability of rain given medium humidity and heavy cloud cover is 54.55%.\n"
          ]
        }
      ]
    },
    {
      "cell_type": "markdown",
      "source": [
        "# **Documentation Report**\n",
        "\n",
        "Machine Problem Documentation: Interactive Probability and Decision-Making in AI\n",
        "\n",
        "Objective:\n",
        "This machine problem involved applying probability theory, Bayesian inference, and decision-making under uncertainty through an interactive Python program. The focus was on simulating and visualizing probabilistic reasoning in various AI contexts.\n",
        "\n",
        "Part 1: Basic Probability Calculations\n",
        "\n",
        "Task:\n",
        "I created Python functions to calculate:\n",
        "- Joint probability of two independent events.\n",
        "- Marginal probability of a single event.\n",
        "- Conditional probability using Bayes' theorem.\n",
        "\n",
        "Interactive Component:\n",
        "The program prompts users to input probabiliities for different events and calculates the joint, marginal, and conditional probabilities, improving the understanding through hands-on interaction.\n",
        "\n",
        "Part 2: Bayesian Inference for Real-World Scenarios\n",
        "\n",
        "Task:\n",
        "This is where implemented a Python function to update probabilities based on new evidence. This scenario involved calculating the likelihood of having a disease after receiving a positive test result.\n",
        "\n",
        "Interactive Component:\n",
        "The program asks for:\n",
        "- Prior probability of the disease\n",
        "- Likelihood of a positive test given the disease\n",
        "- Overall probability of a positive test\n",
        "\n",
        "It then calculates and displays the updated probability of having the disease, which deepened my appreciation for how Bayes' theorem applies in real-world contexts.\n",
        "\n",
        "Part 3: Simulate Decision-Making Under Uncertainty\n",
        "\n",
        "Task:\n",
        "Here, I wrote a functon to simulate a decision-making process with uncertain outcomes, specifically for investment decisions. This function models potential outcomes using a probability distribution.\n",
        "\n",
        "Interactive Component:\n",
        "Users can input:\n",
        "- Probability of success\n",
        "- Reward for success\n",
        "- Penalty for failure\n",
        "\n",
        "The simulation runs for a specified number of trials, calculating the average return and allowing users to see how changing probabilities affect the outcome. This task highlighted the importance of decision-making.\n",
        "\n",
        "Part 4: Visualize Probability Distributions\n",
        "\n",
        "Task:\n",
        "I used Python to generate and visualize binomial and normal probability distributions relevant to scenarios like coin flips or dice rolls.\n",
        "\n",
        "Interactive Component:\n",
        "Users can select to simulate either a binomial or normal distribution. The program generates the chosen distribution and displays a histogram using matplotlib. This visualization helped solidify how different distributions behave.\n",
        "\n",
        "Part 5: Real-World Scenario Prediction\n",
        "\n",
        "Task:\n",
        "I created a Python script to predict the probability of rain based on factors like humidity and cloud cover using conditional probability.\n",
        "\n",
        "Interactive Component:\n",
        "The program prompts users for:\n",
        "- Humidity level (high, medium, low)\n",
        "- Cloud cover (heavy, medium, light)\n",
        "\n",
        "It calculates the probability of rain based on these inputs and provides feedback on the likelihood of rain, reinforcing the practical applications of probability theory in everyday life.\n",
        "\n",
        "To conclude, this machine problem was a valuable learning experience. It enhanced my understanding of probability theory and its applications in AI. The interactive components made complex concepts more accessible, allowing me to see firsthand how probabilities influence decision-making in reality."
      ],
      "metadata": {
        "id": "BpQUUgYl010B"
      }
    }
  ]
}